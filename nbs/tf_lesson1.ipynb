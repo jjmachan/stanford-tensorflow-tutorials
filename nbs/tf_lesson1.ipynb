{
  "nbformat": 4,
  "nbformat_minor": 0,
  "metadata": {
    "colab": {
      "name": "tf-lesson1.ipynb",
      "version": "0.3.2",
      "provenance": [],
      "collapsed_sections": []
    },
    "kernelspec": {
      "name": "python3",
      "display_name": "Python 3"
    },
    "accelerator": "GPU"
  },
  "cells": [
    {
      "cell_type": "code",
      "metadata": {
        "id": "U2mgfWTvBTc0",
        "colab_type": "code",
        "colab": {}
      },
      "source": [
        "import tensorflow as tf"
      ],
      "execution_count": 0,
      "outputs": []
    },
    {
      "cell_type": "code",
      "metadata": {
        "id": "ORqyTefkBYZp",
        "colab_type": "code",
        "colab": {
          "base_uri": "https://localhost:8080/",
          "height": 34
        },
        "outputId": "12de4813-02f4-4f47-aa2a-309ebd5b5f46"
      },
      "source": [
        "tf.__version__"
      ],
      "execution_count": 6,
      "outputs": [
        {
          "output_type": "execute_result",
          "data": {
            "text/plain": [
              "'1.14.0'"
            ]
          },
          "metadata": {
            "tags": []
          },
          "execution_count": 6
        }
      ]
    },
    {
      "cell_type": "code",
      "metadata": {
        "id": "NqmvfoBOBZyF",
        "colab_type": "code",
        "colab": {
          "base_uri": "https://localhost:8080/",
          "height": 34
        },
        "outputId": "9b84962e-7247-4be1-d43f-7d84f631ac1f"
      },
      "source": [
        "a = tf.add(3, 5)\n",
        "a"
      ],
      "execution_count": 5,
      "outputs": [
        {
          "output_type": "execute_result",
          "data": {
            "text/plain": [
              "<tf.Tensor 'Add_2:0' shape=() dtype=int32>"
            ]
          },
          "metadata": {
            "tags": []
          },
          "execution_count": 5
        }
      ]
    },
    {
      "cell_type": "code",
      "metadata": {
        "id": "Llf2G-pXBkqs",
        "colab_type": "code",
        "colab": {
          "base_uri": "https://localhost:8080/",
          "height": 34
        },
        "outputId": "2e703692-188b-452d-b486-4eca6628ee45"
      },
      "source": [
        "sess = tf.Session()\n",
        "print(sess.run(a))\n",
        "sess.close()"
      ],
      "execution_count": 6,
      "outputs": [
        {
          "output_type": "stream",
          "text": [
            "8\n"
          ],
          "name": "stdout"
        }
      ]
    },
    {
      "cell_type": "code",
      "metadata": {
        "id": "-s37YVEeCIsu",
        "colab_type": "code",
        "colab": {
          "base_uri": "https://localhost:8080/",
          "height": 34
        },
        "outputId": "3a6ba0bc-2c03-4f69-ee37-93e504e28315"
      },
      "source": [
        "with tf.Session() as sess:\n",
        "  print(sess.run(a))"
      ],
      "execution_count": 7,
      "outputs": [
        {
          "output_type": "stream",
          "text": [
            "8\n"
          ],
          "name": "stdout"
        }
      ]
    },
    {
      "cell_type": "code",
      "metadata": {
        "id": "PxHhx2NzCPjM",
        "colab_type": "code",
        "colab": {}
      },
      "source": [
        "#creates the graph \n",
        "x = 2\n",
        "y = 2\n",
        "addxy = tf.add(x,y)\n",
        "mulxy = tf.multiply(x,y)\n",
        "powr = tf.pow(mulxy, addxy)\n",
        "\n",
        "# useless is not computed because powr's computation is not dependent on it\n",
        "useless_op = tf.multiply(x, mulxy)\n",
        "\n",
        "#execute the graph\n",
        "with tf.Session() as sess:\n",
        "  powr = sess.run(powr)"
      ],
      "execution_count": 0,
      "outputs": []
    },
    {
      "cell_type": "code",
      "metadata": {
        "id": "Kgjhb1pOC7yO",
        "colab_type": "code",
        "colab": {
          "base_uri": "https://localhost:8080/",
          "height": 34
        },
        "outputId": "700f2304-3095-4e75-d4b5-7ce64a08fb5a"
      },
      "source": [
        "powr"
      ],
      "execution_count": 18,
      "outputs": [
        {
          "output_type": "execute_result",
          "data": {
            "text/plain": [
              "256"
            ]
          },
          "metadata": {
            "tags": []
          },
          "execution_count": 18
        }
      ]
    },
    {
      "cell_type": "markdown",
      "metadata": {
        "id": "VFDZTR2hEj4a",
        "colab_type": "text"
      },
      "source": [
        "session( ) takes in the following args\n",
        "\n",
        "```\n",
        "tf.Session.run(  fetches,\n",
        "                 feed_dict=None.\n",
        "                 options=None,\n",
        "                 run_metadata=None)\n",
        "```\n",
        "\n"
      ]
    },
    {
      "cell_type": "code",
      "metadata": {
        "id": "bTLqawKkDEnW",
        "colab_type": "code",
        "colab": {
          "base_uri": "https://localhost:8080/",
          "height": 34
        },
        "outputId": "54231dbf-069e-4604-b4ae-38dcc02292be"
      },
      "source": [
        "x = 2\n",
        "y = 2\n",
        "addxy = tf.add(x,y)\n",
        "mulxy = tf.multiply(x,y)\n",
        "powr = tf.pow(mulxy, addxy)\n",
        "useless_op = tf.multiply(x, mulxy)\n",
        "with tf.Session() as sess:\n",
        "  z, useless = sess.run([powr, useless_op])\n",
        "  \n",
        "z, useless"
      ],
      "execution_count": 20,
      "outputs": [
        {
          "output_type": "execute_result",
          "data": {
            "text/plain": [
              "(256, 8)"
            ]
          },
          "metadata": {
            "tags": []
          },
          "execution_count": 20
        }
      ]
    },
    {
      "cell_type": "code",
      "metadata": {
        "id": "Ul7Oj5e5GAvv",
        "colab_type": "code",
        "colab": {
          "base_uri": "https://localhost:8080/",
          "height": 538
        },
        "outputId": "e731eed0-e8ea-4ec2-fd42-0b03bfdfa0a9"
      },
      "source": [
        "# get the list of available devices\n",
        "from tensorflow.python.client import device_lib\n",
        "print(device_lib.list_local_devices())"
      ],
      "execution_count": 2,
      "outputs": [
        {
          "output_type": "stream",
          "text": [
            "[name: \"/device:CPU:0\"\n",
            "device_type: \"CPU\"\n",
            "memory_limit: 268435456\n",
            "locality {\n",
            "}\n",
            "incarnation: 6801731418659564098\n",
            ", name: \"/device:XLA_CPU:0\"\n",
            "device_type: \"XLA_CPU\"\n",
            "memory_limit: 17179869184\n",
            "locality {\n",
            "}\n",
            "incarnation: 10625815175571444584\n",
            "physical_device_desc: \"device: XLA_CPU device\"\n",
            ", name: \"/device:XLA_GPU:0\"\n",
            "device_type: \"XLA_GPU\"\n",
            "memory_limit: 17179869184\n",
            "locality {\n",
            "}\n",
            "incarnation: 6575256642117619988\n",
            "physical_device_desc: \"device: XLA_GPU device\"\n",
            ", name: \"/device:GPU:0\"\n",
            "device_type: \"GPU\"\n",
            "memory_limit: 3333357568\n",
            "locality {\n",
            "  bus_id: 1\n",
            "  links {\n",
            "  }\n",
            "}\n",
            "incarnation: 14640010782079525872\n",
            "physical_device_desc: \"device: 0, name: Tesla K80, pci bus id: 0000:00:04.0, compute capability: 3.7\"\n",
            "]\n"
          ],
          "name": "stdout"
        }
      ]
    },
    {
      "cell_type": "code",
      "metadata": {
        "id": "a25uGbpPGBLx",
        "colab_type": "code",
        "colab": {
          "base_uri": "https://localhost:8080/",
          "height": 34
        },
        "outputId": "b9331c91-ec34-4c60-cfef-812b974cb40c"
      },
      "source": [
        "# distributed computing\n",
        "# breaking down computation graphs into different GPUs\n",
        "\n",
        "with tf.device('/gpu:0'):\n",
        "  a = tf.constant([1., 2., 3.,], name='A')\n",
        "  b = tf.constant([1., 2., 3.], name='B')\n",
        "  c = tf.multiply(a,b)\n",
        "  \n",
        "# create a session with log_device_placement = True\n",
        "sess = tf.Session(config=tf.ConfigProto(log_device_placement=True))\n",
        "\n",
        "print(type(sess.run(c)))"
      ],
      "execution_count": 11,
      "outputs": [
        {
          "output_type": "stream",
          "text": [
            "<class 'numpy.ndarray'>\n"
          ],
          "name": "stdout"
        }
      ]
    },
    {
      "cell_type": "code",
      "metadata": {
        "id": "bre1IwKiHcGU",
        "colab_type": "code",
        "colab": {}
      },
      "source": [
        ""
      ],
      "execution_count": 0,
      "outputs": []
    }
  ]
}